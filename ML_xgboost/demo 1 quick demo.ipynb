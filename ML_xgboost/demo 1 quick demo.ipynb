{
 "cells": [
  {
   "cell_type": "markdown",
   "id": "9aa673f0-5988-4857-a879-a3ba70523bcf",
   "metadata": {},
   "source": [
    "# Quick XGBoost Demo\n",
    "This demo use Wisconsin breast cancer diagnostic to buld XGBoost modles,\n",
    "with hyperparameter selected by `GridSearchCV`."
   ]
  },
  {
   "cell_type": "code",
   "execution_count": null,
   "id": "8fe541fd-216c-47d6-bc4f-2c22412ba164",
   "metadata": {},
   "outputs": [],
   "source": [
    "from sklearn.datasets import load_breast_cancer\n",
    "from sklearn.model_selection import train_test_split, GridSearchCV\n",
    "from sklearn.metrics import roc_auc_score\n",
    "from sklearn.pipeline import Pipeline\n",
    "from xgboost import XGBClassifier\n",
    "import pandas as pd"
   ]
  },
  {
   "cell_type": "markdown",
   "id": "1e2849a8-6d34-4aa6-ae7b-0c03831a186b",
   "metadata": {},
   "source": [
    "## Load and Split Data"
   ]
  },
  {
   "cell_type": "code",
   "execution_count": null,
   "id": "079a31be-f859-464d-b74e-be48915ea974",
   "metadata": {},
   "outputs": [],
   "source": [
    "data = load_breast_cancer()\n",
    "X = pd.DataFrame(data.data, columns=data.feature_names)\n",
    "y = pd.Series(data.target)\n",
    "\n",
    "X_train, X_test, y_train, y_test = train_test_split(\n",
    "    X, y, test_size=0.2, random_state=42, stratify=y\n",
    ")"
   ]
  },
  {
   "cell_type": "markdown",
   "id": "c7ee3ed3-24b5-436d-9d7c-aaaf04a33cce",
   "metadata": {},
   "source": [
    "## Model Pipeline and Grid Search"
   ]
  },
  {
   "cell_type": "code",
   "execution_count": null,
   "id": "cd2b5b3b-1a73-42bc-9402-c02499b4d237",
   "metadata": {},
   "outputs": [],
   "source": [
    "xgb_model = Pipeline([\n",
    "    (\"model\", XGBClassifier(\n",
    "        objective=\"binary:logistic\",\n",
    "        eval_metric=\"auc\",\n",
    "        random_state=42\n",
    "    ))\n",
    "])\n",
    "\n",
    "param_grid = {\n",
    "    \"model__max_depth\": [1, 2, 3],\n",
    "    \"model__n_estimators\": [2, 3, 4, 5],\n",
    "}\n",
    "gs = GridSearchCV(\n",
    "    estimator=xgb_model,\n",
    "    param_grid=param_grid,\n",
    "    scoring=\"roc_auc\",\n",
    "    cv=5,\n",
    "    n_jobs=-1,\n",
    "    verbose=1\n",
    ")"
   ]
  },
  {
   "cell_type": "markdown",
   "id": "7ff4d078-b639-43e3-ad08-b270db918061",
   "metadata": {},
   "source": [
    "## Fit and Evalueate Model\n",
    "Gredi search for best hyperparameter and fit model.\n",
    "Evaluate model performance with AUC"
   ]
  },
  {
   "cell_type": "code",
   "execution_count": null,
   "id": "71234da1-368e-462f-90f3-89d59f9ee8d8",
   "metadata": {},
   "outputs": [
    {
     "name": "stdout",
     "output_type": "stream",
     "text": [
      "Fitting 5 folds for each of 12 candidates, totalling 60 fits\n",
      "Best parameters:{'model__max_depth': 3, 'model__n_estimators': 5}, best cross-val AUC 0.9795665634674924\n",
      "Best cross-val AUC: 0.9795665634674924\n",
      "Test AUC: 0.985\n"
     ]
    }
   ],
   "source": [
    "gs.fit(X_train, y_train)\n",
    "print(f\"Best parameters:{gs.best_params_}, best cross-val AUC {gs.best_score_}\")\n",
    "\n",
    "best_model = gs.best_estimator_\n",
    "proba = best_model.predict_proba(X_test)[:, 1]\n",
    "auc = roc_auc_score(y_test, proba)\n",
    "print(f\"Test AUC: {auc:.3f}\")"
   ]
  }
 ],
 "metadata": {
  "kernelspec": {
   "display_name": "deeplearning",
   "language": "python",
   "name": "myenv"
  },
  "language_info": {
   "codemirror_mode": {
    "name": "ipython",
    "version": 3
   },
   "file_extension": ".py",
   "mimetype": "text/x-python",
   "name": "python",
   "nbconvert_exporter": "python",
   "pygments_lexer": "ipython3",
   "version": "3.9.19"
  }
 },
 "nbformat": 4,
 "nbformat_minor": 5
}
