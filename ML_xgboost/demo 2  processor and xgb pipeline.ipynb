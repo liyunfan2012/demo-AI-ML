{
 "cells": [
  {
   "cell_type": "markdown",
   "id": "split-lesbian",
   "metadata": {},
   "source": [
    "# Demo 1 Pipeline with preprocessor and xgb model"
   ]
  },
  {
   "cell_type": "markdown",
   "id": "5660842f-9292-4ce9-9266-b4b42594a1eb",
   "metadata": {},
   "source": [
    "## 0.Create Raw Data\n",
    "A made up dataframe with 4 features and 10 samples. The definition of leaf output and feature importance are illustrated."
   ]
  },
  {
   "cell_type": "code",
   "execution_count": 1,
   "id": "b1a77ebc-87cb-4054-939e-e88e27d7adb5",
   "metadata": {},
   "outputs": [
    {
     "name": "stdout",
     "output_type": "stream",
     "text": [
      "    x1   x2   x3\n",
      "0    H  2.8  NaN\n",
      "1    H  3.0  2.0\n",
      "2    H  2.0  4.2\n",
      "3    H  2.6  2.6\n",
      "4    H  3.0  3.0\n",
      "5    H  3.0  2.7\n",
      "6    L  2.7  6.0\n",
      "7    L  4.5  2.0\n",
      "8  NaN  1.3  2.0\n",
      "9    H  4.2  4.0\n"
     ]
    }
   ],
   "source": [
    "import warnings \n",
    "warnings.simplefilter(action='ignore', category=FutureWarning)\n",
    "warnings.simplefilter(action='ignore', category=UserWarning)\n",
    "\n",
    "import pandas as pd\n",
    "import numpy as np\n",
    "import math\n",
    "import os\n",
    "import xgboost as xgb\n",
    "from xgboost import plot_tree,to_graphviz\n",
    "from scipy.special import expit, logit\n",
    "import matplotlib.pyplot as plt\n",
    "from sklearn.pipeline import Pipeline\n",
    "from sklearn.model_selection import train_test_split, GridSearchCV\n",
    "\n",
    "\n",
    "df=pd.DataFrame({'y':[0,0,0,0,0,1,1,1,0,1],\n",
    "                 'x1':['H','H','H','H','H','H','L','L',np.nan,'H'],\n",
    "                 'x2':[2.8,3,2,2.6,3,3,2.7,4.5,1.3,4.2],\n",
    "                 'x3':[np.nan,2,4.2,2.6,3,2.7,6,2,2,4]\n",
    "                })\n",
    "X=df[['x1','x2','x3']].replace(r'^\\s+$', np.nan, regex=True)\n",
    "num_cols=['x2','x3']\n",
    "cat_cols=['x1']\n",
    "y=df['y']\n",
    "print(X)"
   ]
  },
  {
   "cell_type": "markdown",
   "id": "tracked-thanks",
   "metadata": {},
   "source": [
    "## 1.Preprocessor and XGB Pipeline\n",
    "### Data preprocessor pipeline\n",
    "Passes through numeric features and processes categorical features with transformer, imputing missings and one-hot encoding."
   ]
  },
  {
   "cell_type": "markdown",
   "id": "d3abb358-43f1-45f1-81bb-4968b60d6928",
   "metadata": {},
   "source": [
    "#### Categorical feature processor"
   ]
  },
  {
   "cell_type": "code",
   "execution_count": 2,
   "id": "ab372138-fbcb-497d-a77d-028d8fe82d7e",
   "metadata": {},
   "outputs": [],
   "source": [
    "from sklearn.impute import SimpleImputer\n",
    "from sklearn.preprocessing import OneHotEncoder\n",
    "enc = OneHotEncoder(sparse_output=False, handle_unknown=\"ignore\")\n",
    "imputer = SimpleImputer(strategy='constant', fill_value='NA')\n",
    "cat_transformer = Pipeline(steps=[(\"imputer\",SimpleImputer(strategy='constant', fill_value='NA')),\n",
    "                                       (\"enc\",OneHotEncoder(sparse_output=False, handle_unknown=\"ignore\"))])"
   ]
  },
  {
   "cell_type": "code",
   "execution_count": 3,
   "id": "03c31236-1306-44a7-a092-985944833b1b",
   "metadata": {},
   "outputs": [
    {
     "data": {
      "text/html": [
       "<div>\n",
       "<style scoped>\n",
       "    .dataframe tbody tr th:only-of-type {\n",
       "        vertical-align: middle;\n",
       "    }\n",
       "\n",
       "    .dataframe tbody tr th {\n",
       "        vertical-align: top;\n",
       "    }\n",
       "\n",
       "    .dataframe thead th {\n",
       "        text-align: right;\n",
       "    }\n",
       "</style>\n",
       "<table border=\"1\" class=\"dataframe\">\n",
       "  <thead>\n",
       "    <tr style=\"text-align: right;\">\n",
       "      <th></th>\n",
       "      <th>x1</th>\n",
       "    </tr>\n",
       "  </thead>\n",
       "  <tbody>\n",
       "    <tr>\n",
       "      <th>0</th>\n",
       "      <td>H</td>\n",
       "    </tr>\n",
       "    <tr>\n",
       "      <th>1</th>\n",
       "      <td>H</td>\n",
       "    </tr>\n",
       "    <tr>\n",
       "      <th>2</th>\n",
       "      <td>H</td>\n",
       "    </tr>\n",
       "    <tr>\n",
       "      <th>3</th>\n",
       "      <td>H</td>\n",
       "    </tr>\n",
       "  </tbody>\n",
       "</table>\n",
       "</div>"
      ],
      "text/plain": [
       "  x1\n",
       "0  H\n",
       "1  H\n",
       "2  H\n",
       "3  H"
      ]
     },
     "execution_count": 3,
     "metadata": {},
     "output_type": "execute_result"
    }
   ],
   "source": [
    "X[['x1']].iloc[:4]"
   ]
  },
  {
   "cell_type": "markdown",
   "id": "952bc07e-6325-4513-8f9e-6b8fddc9d705",
   "metadata": {},
   "source": [
    "- Demo use "
   ]
  },
  {
   "cell_type": "code",
   "execution_count": 4,
   "id": "0baf7cae-1547-487a-a0ad-56f0f1c8541d",
   "metadata": {},
   "outputs": [
    {
     "name": "stdout",
     "output_type": "stream",
     "text": [
      "Categories: [array(['H', 'L'], dtype=object)]\n",
      "One-hot encoded\n",
      "[[1. 0.]\n",
      " [1. 0.]\n",
      " [1. 0.]\n",
      " [0. 1.]]\n",
      "One-hot decoded\n",
      "[['H']\n",
      " ['H']\n",
      " ['H']\n",
      " ['L']]\n"
     ]
    }
   ],
   "source": [
    "X_imputed = imputer.fit_transform(X[['x1']].iloc[3:7])\n",
    "X_encoded=enc.fit_transform(X_imputed)\n",
    "\n",
    "print(f\"Categories: {enc.categories_}\")\n",
    "print(f\"One-hot encoded\")\n",
    "print(X_encoded)\n",
    "print('One-hot decoded')\n",
    "print(enc.inverse_transform(X_encoded))"
   ]
  },
  {
   "cell_type": "markdown",
   "id": "ade6cabf-09f0-4fc7-b8ec-f02eac8c0101",
   "metadata": {},
   "source": [
    "### Data preprocessor"
   ]
  },
  {
   "cell_type": "code",
   "execution_count": 5,
   "id": "1b4d198f-c0c9-4243-b51c-ef5e10fb8d10",
   "metadata": {},
   "outputs": [],
   "source": [
    "from sklearn.compose import ColumnTransformer\n",
    "from sklearn.compose import make_column_selector as col_selector\n",
    "\n",
    "preprocessor = ColumnTransformer([(\"numerical\", \"passthrough\", col_selector(dtype_exclude=object)), \n",
    "                                  (\"categorical\", cat_transformer,col_selector(dtype_include=object))])"
   ]
  },
  {
   "cell_type": "markdown",
   "id": "formed-travel",
   "metadata": {},
   "source": [
    "### Preprocessor and XGB Pipeline"
   ]
  },
  {
   "cell_type": "code",
   "execution_count": 6,
   "id": "northern-native",
   "metadata": {},
   "outputs": [],
   "source": [
    "param = { 'objective':'binary:logistic','base_score':0.5,'n_estimators':2,'eta':0.5,\n",
    "         'max_depth':2, 'gamma':0.6,'min_child_weight':0,'lambda':1}\n",
    "model=xgb.XGBClassifier(n_jobs=-1,**param)\n",
    "xgb_model = Pipeline([(\"preprocessor\", preprocessor), \n",
    "                      (\"model\",model)])"
   ]
  },
  {
   "cell_type": "markdown",
   "id": "exterior-roulette",
   "metadata": {},
   "source": [
    "## 2.Fit Model and Output Model\n",
    "\n",
    "### Fit model"
   ]
  },
  {
   "cell_type": "code",
   "execution_count": 7,
   "id": "italian-crowd",
   "metadata": {},
   "outputs": [
    {
     "name": "stdout",
     "output_type": "stream",
     "text": [
      "[[0.7011472  0.29885283]\n",
      " [0.5962753  0.4037247 ]\n",
      " [0.7011472  0.29885283]\n",
      " [0.7011472  0.29885283]\n",
      " [0.5962753  0.4037247 ]\n",
      " [0.5962753  0.4037247 ]\n",
      " [0.37965727 0.62034273]\n",
      " [0.34879583 0.65120417]\n",
      " [0.7011472  0.29885283]\n",
      " [0.40181476 0.59818524]]\n"
     ]
    }
   ],
   "source": [
    "xgb_model.fit(X,y)\n",
    "proba=xgb_model.predict_proba(X)\n",
    "print(proba)\n",
    "preprocessor=xgb_model.named_steps[\"preprocessor\"]\n",
    "enc=preprocessor.named_transformers_['categorical'].named_steps['enc']"
   ]
  },
  {
   "cell_type": "markdown",
   "id": "nervous-panel",
   "metadata": {},
   "source": [
    "### Extract feature name info\n",
    "Generate multi-index of one-hot encoded feature names info for feature importance, create xgb feature mapping file \"xgb_fmap.txt\" for plotting trees."
   ]
  },
  {
   "cell_type": "code",
   "execution_count": 8,
   "id": "instructional-flush",
   "metadata": {},
   "outputs": [
    {
     "name": "stdout",
     "output_type": "stream",
     "text": [
      "[('x2', 'x2'), ('x3', 'x3'), ('x1', 'x1_H'), ('x1', 'x1_L'), ('x1', 'x1_NA')]\n"
     ]
    }
   ],
   "source": [
    "#enc.get_feature_names(input_features=cat_cols)\n",
    "tuples_cat=[(col,f\"{col}_{col_ohe}\") for col,col_ohes in zip(cat_cols,enc.categories_) for col_ohe in col_ohes ]\n",
    "tuples_num=list(zip(num_cols,num_cols))\n",
    "tuples=tuples_num+tuples_cat\n",
    "print(tuples)\n",
    "idx=pd.MultiIndex.from_tuples(tuples,names=('feature', 'feature_encoded'))\n",
    "\n",
    "outfile = open('xgb_fmap.txt', 'w')\n",
    "for i,feat in enumerate(idx.get_level_values(1)):\n",
    "    outfile.write('{0}\\t{1}\\tq\\n'.format(i, feat))\n",
    "outfile.close()"
   ]
  },
  {
   "cell_type": "code",
   "execution_count": 9,
   "id": "falling-component",
   "metadata": {},
   "outputs": [
    {
     "name": "stdout",
     "output_type": "stream",
     "text": [
      "{'f0': 'x2', 'f1': 'x3', 'f2': 'x1_H', 'f3': 'x1_L', 'f4': 'x1_NA'}\n",
      "weight{'x2': 2.0, 'x3': 1.0, 'x1_L': 1.0}\n",
      "gain{'x2': 1.2009048461914062, 'x3': 1.139393925666809, 'x1_L': 1.0318323373794556}\n",
      "cover{'x2': 2.202906608581543, 'x3': 2.0, 'x1_L': 2.396512269973755}\n",
      "total_gain{'x2': 2.4018096923828125, 'x3': 1.139393925666809, 'x1_L': 1.0318323373794556}\n",
      "total_cover{'x2': 4.405813217163086, 'x3': 2.0, 'x1_L': 2.396512269973755}\n"
     ]
    }
   ],
   "source": [
    "categories=preprocessor.named_transformers_['categorical'].named_steps['enc'].categories_\n",
    "cat_ohe_name=[f\"{col}_{ohe}\" for col,ohes in zip(cat_cols,categories) for ohe in ohes ]\n",
    "f_map={\"f\"+str(i):name for i,name in enumerate(num_cols+cat_ohe_name)}\n",
    "print(f_map)\n",
    "\n",
    "for score_type in ['weight','gain','cover','total_gain','total_cover']:\n",
    "    scores=model.get_booster().get_score(importance_type=score_type)\n",
    "    print(score_type+str({f_map[f]:s for (f,s) in scores.items()}))"
   ]
  },
  {
   "cell_type": "code",
   "execution_count": 10,
   "id": "cultural-tuning",
   "metadata": {},
   "outputs": [
    {
     "name": "stdout",
     "output_type": "stream",
     "text": [
      "['x2', 'x3', 'x1_H', 'x1_L', 'x1_NA']\n",
      "{'f0': 2.0, 'f1': 1.0, 'f3': 1.0}\n"
     ]
    },
    {
     "data": {
      "text/plain": [
       "{'x2': 4.405813217163086, 'x3': 2.0, 'x1_L': 2.396512269973755}"
      ]
     },
     "execution_count": 10,
     "metadata": {},
     "output_type": "execute_result"
    }
   ],
   "source": [
    "cat=[f\"{col}_{col_ohe}\" for col,col_ohes in zip(cat_cols,enc.categories_) for col_ohe in col_ohes ]\n",
    "cols=num_cols+cat\n",
    "score=model.get_booster().get_score(importance_type='weight')\n",
    "print(cols)\n",
    "print(score)\n",
    "{f_map[f]:s for (f,s) in scores.items()}"
   ]
  },
  {
   "cell_type": "markdown",
   "id": "fatty-tennis",
   "metadata": {},
   "source": [
    "### Plot trees"
   ]
  },
  {
   "cell_type": "code",
   "execution_count": 11,
   "id": "e2ea05b4-7b73-44b2-9702-588a697bc343",
   "metadata": {},
   "outputs": [
    {
     "name": "stdout",
     "output_type": "stream",
     "text": [
      "0:[f0<4.19999981] yes=1,no=2,missing=2\n",
      "\t1:[f1<6] yes=3,no=4,missing=3\n",
      "\t\t3:leaf=-0.454545468\n",
      "\t\t4:leaf=0.200000003\n",
      "\t2:leaf=0.333333343\n",
      "\n",
      "0:[f3<1] yes=1,no=2,missing=2\n",
      "\t1:[f0<3] yes=3,no=4,missing=4\n",
      "\t\t3:leaf=-0.398221195\n",
      "\t\t4:leaf=0.0645761117\n",
      "\t2:leaf=0.291003078\n",
      "\n"
     ]
    }
   ],
   "source": [
    "model=xgb_model.named_steps[\"model\"]\n",
    "\n",
    "booster=model.get_booster()\n",
    "trees=booster.get_dump()\n",
    "trees=model.get_booster().get_dump()\n",
    "for tree in trees:\n",
    "    print(tree)\n",
    "n=len(trees)  #get number of trees\n",
    "#plot trees\n",
    "node_params = {'shape': 'box', ## make the nodes fancy\n",
    "               'style': 'filled, rounded',\n",
    "               'fillcolor': '#78cbe'} \n",
    "leaf_params = {'shape': 'box',\n",
    "               'style': 'filled',\n",
    "               'fillcolor': '#e48038'}"
   ]
  },
  {
   "cell_type": "code",
   "execution_count": 12,
   "id": "034363e0-2837-4941-abf9-e764dedb71a9",
   "metadata": {},
   "outputs": [
    {
     "data": {
      "image/png": "[encoded data removed]",
      "text/plain": [
       "<Figure size 1600x400 with 2 Axes>"
      ]
     },
     "metadata": {},
     "output_type": "display_data"
    }
   ],
   "source": [
    "#the following dictionary tree plot parameters\n",
    "node_params = {'shape': 'box', ## make the nodes fancy\n",
    "               'style': 'filled, rounded',\n",
    "               'fillcolor': '#78cbe'} \n",
    "leaf_params = {'shape': 'box',\n",
    "               'style': 'filled',\n",
    "               'fillcolor': '#e48038'}\n",
    "\n",
    "fix,axs=plt.subplots(1,n,figsize=(16,4))\n",
    "for i in range(n):\n",
    "    xgb.plot_tree(model, num_trees=i, ax = axs[i],\n",
    "                  condition_node_params=node_params,\n",
    "                  leaf_node_params=leaf_params,\n",
    "                 fmap=\"xgb_fmap.txt\")"
   ]
  },
  {
   "cell_type": "code",
   "execution_count": null,
   "id": "94f0e11a-82e6-440a-bea1-aec5e69c6236",
   "metadata": {},
   "outputs": [],
   "source": [
    " "
   ]
  },
  {
   "cell_type": "markdown",
   "id": "concerned-injury",
   "metadata": {},
   "source": [
    "### Extract feature importance"
   ]
  },
  {
   "cell_type": "code",
   "execution_count": 13,
   "id": "mighty-aurora",
   "metadata": {},
   "outputs": [
    {
     "name": "stdout",
     "output_type": "stream",
     "text": [
      "                        xgb_name  weight      gain     cover  total_gain  \\\n",
      "feature feature_encoded                                                    \n",
      "x2      x2                    f0     2.0  1.200905  2.202907    2.401810   \n",
      "x3      x3                    f1     1.0  1.139394  2.000000    1.139394   \n",
      "x1      x1_H                  f2     NaN       NaN       NaN         NaN   \n",
      "        x1_L                  f3     1.0  1.031832  2.396512    1.031832   \n",
      "        x1_NA                 f4     NaN       NaN       NaN         NaN   \n",
      "\n",
      "                         total_cover  \n",
      "feature feature_encoded               \n",
      "x2      x2                  4.405813  \n",
      "x3      x3                  2.000000  \n",
      "x1      x1_H                     NaN  \n",
      "        x1_L                2.396512  \n",
      "        x1_NA                    NaN  \n"
     ]
    }
   ],
   "source": [
    "score_raw_df=pd.DataFrame([f\"f{ind}\" for ind in range(len(idx))],index=idx,columns=['xgb_name'])\n",
    "\n",
    "for score_type in ['weight','gain','cover','total_gain','total_cover']:\n",
    "    score=model.get_booster().get_score(importance_type=score_type)\n",
    "    score_raw_df[score_type]=score_raw_df['xgb_name'].map(score)\n",
    "print(score_raw_df)\n",
    "score=score_raw_df.groupby(level=[0]).agg(\n",
    "    {'weight':sum,'gain':np.mean,'cover':np.mean,'total_gain':sum,'total_cover':sum})    "
   ]
  },
  {
   "cell_type": "markdown",
   "id": "turned-toolbox",
   "metadata": {},
   "source": [
    "## Hyperparamter Tuning"
   ]
  },
  {
   "cell_type": "code",
   "execution_count": 14,
   "id": "a78174d5-4049-40ba-95d1-c6d77807c9ea",
   "metadata": {},
   "outputs": [
    {
     "name": "stdout",
     "output_type": "stream",
     "text": [
      "{'model__max_depth': 2, 'model__n_estimators': 4}\n",
      "1.0\n",
      "[0.09699517 0.17778848 0.12264672 0.1222282 ]\n"
     ]
    }
   ],
   "source": [
    "N=1000\n",
    "X_full=pd.concat([X]*N)\n",
    "y_full=pd.concat([y]*N)\n",
    "gs = GridSearchCV(xgb_model, {\"model__max_depth\": [1,2,3], \n",
    "                             \"model__n_estimators\": [2,3,4,5]}, \n",
    "                  n_jobs=-1, cv=5,scoring='roc_auc')\n",
    "\n",
    "gs.fit(X_full, y_full)\n",
    "print(gs.best_params_)\n",
    "print(gs.best_score_)\n",
    "best_model = gs.best_estimator_\n",
    "proba = best_model.predict_proba(X_full)\n",
    "print(proba[:4,1])"
   ]
  }
 ],
 "metadata": {
  "kernelspec": {
   "display_name": "Python 3 (ipykernel)",
   "language": "python",
   "name": "python3"
  },
  "language_info": {
   "codemirror_mode": {
    "name": "ipython",
    "version": 3
   },
   "file_extension": ".py",
   "mimetype": "text/x-python",
   "name": "python",
   "nbconvert_exporter": "python",
   "pygments_lexer": "ipython3",
   "version": "3.9.19"
  }
 },
 "nbformat": 4,
 "nbformat_minor": 5
}
